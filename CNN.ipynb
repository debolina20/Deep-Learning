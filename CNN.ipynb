{
 "cells": [
  {
   "cell_type": "code",
   "execution_count": 1,
   "id": "fa3aca81",
   "metadata": {},
   "outputs": [
    {
     "name": "stdout",
     "output_type": "stream",
     "text": [
      "WARNING:tensorflow:From E:\\anaconda3\\Lib\\site-packages\\keras\\src\\losses.py:2976: The name tf.losses.sparse_softmax_cross_entropy is deprecated. Please use tf.compat.v1.losses.sparse_softmax_cross_entropy instead.\n",
      "\n"
     ]
    }
   ],
   "source": [
    "import tensorflow as tf\n",
    "from keras.preprocessing.image import ImageDataGenerator"
   ]
  },
  {
   "cell_type": "code",
   "execution_count": 3,
   "id": "1a9425c2",
   "metadata": {},
   "outputs": [
    {
     "name": "stdout",
     "output_type": "stream",
     "text": [
      "Found 8000 images belonging to 2 classes.\n"
     ]
    }
   ],
   "source": [
    "#preprocessing the training set\n",
    "train_datagen = ImageDataGenerator(rescale = 1./255, shear_range = 0.2, zoom_range = 0.2, horizontal_flip = True)\n",
    "train_set = train_datagen.flow_from_directory(\n",
    "            'dataset/training_set',\n",
    "            target_size = (64, 64),\n",
    "            batch_size = 32,\n",
    "            class_mode = 'binary')"
   ]
  },
  {
   "cell_type": "code",
   "execution_count": 4,
   "id": "79d3c7e2",
   "metadata": {},
   "outputs": [
    {
     "name": "stdout",
     "output_type": "stream",
     "text": [
      "Found 2000 images belonging to 2 classes.\n"
     ]
    }
   ],
   "source": [
    "#preprocessing the test set\n",
    "test_datagen = ImageDataGenerator(rescale = 1./255)\n",
    "test_set = test_datagen.flow_from_directory(\n",
    "            'dataset/test_set',\n",
    "            target_size = (64, 64),\n",
    "            batch_size = 32,\n",
    "            class_mode = 'binary')"
   ]
  },
  {
   "cell_type": "code",
   "execution_count": 5,
   "id": "046131f5",
   "metadata": {},
   "outputs": [
    {
     "name": "stdout",
     "output_type": "stream",
     "text": [
      "WARNING:tensorflow:From E:\\anaconda3\\Lib\\site-packages\\keras\\src\\backend.py:873: The name tf.get_default_graph is deprecated. Please use tf.compat.v1.get_default_graph instead.\n",
      "\n"
     ]
    }
   ],
   "source": [
    "#Building the CNN\n",
    "cnn = tf.keras.models.Sequential()"
   ]
  },
  {
   "cell_type": "code",
   "execution_count": 6,
   "id": "e00ba2dc",
   "metadata": {},
   "outputs": [
    {
     "name": "stdout",
     "output_type": "stream",
     "text": [
      "WARNING:tensorflow:From E:\\anaconda3\\Lib\\site-packages\\keras\\src\\layers\\pooling\\max_pooling2d.py:161: The name tf.nn.max_pool is deprecated. Please use tf.nn.max_pool2d instead.\n",
      "\n"
     ]
    }
   ],
   "source": [
    "#Convolution\n",
    "cnn.add(tf.keras.layers.Conv2D(filters=32, kernel_size=3, activation = 'relu', input_shape=[64, 64, 3]))\n",
    "#Pooling (MaxPooling)\n",
    "cnn.add(tf.keras.layers.MaxPool2D(pool_size=2, strides=2))\n",
    "#Adding another second convolution layer\n",
    "cnn.add(tf.keras.layers.Conv2D(filters=32, kernel_size=3, activation = 'relu'))\n",
    "cnn.add(tf.keras.layers.MaxPool2D(pool_size=2, strides=2))\n",
    "#Flattening\n",
    "cnn.add(tf.keras.layers.Flatten())\n",
    "#Fully Connected Layer\n",
    "cnn.add(tf.keras.layers.Dense(units=128, activation = 'relu'))\n",
    "#Output layer\n",
    "cnn.add(tf.keras.layers.Dense(units=1, activation = 'sigmoid'))"
   ]
  },
  {
   "cell_type": "code",
   "execution_count": 7,
   "id": "6cde44c1",
   "metadata": {},
   "outputs": [
    {
     "name": "stdout",
     "output_type": "stream",
     "text": [
      "WARNING:tensorflow:From E:\\anaconda3\\Lib\\site-packages\\keras\\src\\optimizers\\__init__.py:309: The name tf.train.Optimizer is deprecated. Please use tf.compat.v1.train.Optimizer instead.\n",
      "\n"
     ]
    }
   ],
   "source": [
    "#Compiling the CNN\n",
    "cnn.compile(optimizer = 'adam', loss = 'binary_crossentropy', metrics=['accuracy'])"
   ]
  },
  {
   "cell_type": "code",
   "execution_count": 8,
   "id": "8212a88f",
   "metadata": {},
   "outputs": [
    {
     "name": "stdout",
     "output_type": "stream",
     "text": [
      "Epoch 1/25\n",
      "WARNING:tensorflow:From E:\\anaconda3\\Lib\\site-packages\\keras\\src\\utils\\tf_utils.py:492: The name tf.ragged.RaggedTensorValue is deprecated. Please use tf.compat.v1.ragged.RaggedTensorValue instead.\n",
      "\n",
      "WARNING:tensorflow:From E:\\anaconda3\\Lib\\site-packages\\keras\\src\\engine\\base_layer_utils.py:384: The name tf.executing_eagerly_outside_functions is deprecated. Please use tf.compat.v1.executing_eagerly_outside_functions instead.\n",
      "\n",
      "250/250 [==============================] - 236s 941ms/step - loss: 0.6813 - accuracy: 0.5638 - val_loss: 0.6369 - val_accuracy: 0.6035\n",
      "Epoch 2/25\n",
      "250/250 [==============================] - 36s 144ms/step - loss: 0.5914 - accuracy: 0.6821 - val_loss: 0.5494 - val_accuracy: 0.7200\n",
      "Epoch 3/25\n",
      "250/250 [==============================] - 36s 145ms/step - loss: 0.5513 - accuracy: 0.7180 - val_loss: 0.5764 - val_accuracy: 0.6895\n",
      "Epoch 4/25\n",
      "250/250 [==============================] - 36s 144ms/step - loss: 0.5296 - accuracy: 0.7350 - val_loss: 0.5152 - val_accuracy: 0.7515\n",
      "Epoch 5/25\n",
      "250/250 [==============================] - 37s 147ms/step - loss: 0.4926 - accuracy: 0.7629 - val_loss: 0.5065 - val_accuracy: 0.7585\n",
      "Epoch 6/25\n",
      "250/250 [==============================] - 36s 145ms/step - loss: 0.4920 - accuracy: 0.7611 - val_loss: 0.4936 - val_accuracy: 0.7660\n",
      "Epoch 7/25\n",
      "250/250 [==============================] - 37s 147ms/step - loss: 0.4642 - accuracy: 0.7785 - val_loss: 0.4644 - val_accuracy: 0.7865\n",
      "Epoch 8/25\n",
      "250/250 [==============================] - 36s 145ms/step - loss: 0.4558 - accuracy: 0.7870 - val_loss: 0.5190 - val_accuracy: 0.7570\n",
      "Epoch 9/25\n",
      "250/250 [==============================] - 36s 146ms/step - loss: 0.4295 - accuracy: 0.7929 - val_loss: 0.5287 - val_accuracy: 0.7445\n",
      "Epoch 10/25\n",
      "250/250 [==============================] - 36s 145ms/step - loss: 0.4227 - accuracy: 0.8024 - val_loss: 0.4929 - val_accuracy: 0.7625\n",
      "Epoch 11/25\n",
      "250/250 [==============================] - 36s 145ms/step - loss: 0.4067 - accuracy: 0.8146 - val_loss: 0.4542 - val_accuracy: 0.7930\n",
      "Epoch 12/25\n",
      "250/250 [==============================] - 36s 146ms/step - loss: 0.3834 - accuracy: 0.8230 - val_loss: 0.4677 - val_accuracy: 0.7925\n",
      "Epoch 13/25\n",
      "250/250 [==============================] - 36s 145ms/step - loss: 0.3764 - accuracy: 0.8310 - val_loss: 0.4614 - val_accuracy: 0.7995\n",
      "Epoch 14/25\n",
      "250/250 [==============================] - 37s 146ms/step - loss: 0.3595 - accuracy: 0.8400 - val_loss: 0.4886 - val_accuracy: 0.7825\n",
      "Epoch 15/25\n",
      "250/250 [==============================] - 37s 146ms/step - loss: 0.3499 - accuracy: 0.8484 - val_loss: 0.5265 - val_accuracy: 0.7670\n",
      "Epoch 16/25\n",
      "250/250 [==============================] - 37s 147ms/step - loss: 0.3251 - accuracy: 0.8579 - val_loss: 0.5505 - val_accuracy: 0.7700\n",
      "Epoch 17/25\n",
      "250/250 [==============================] - 36s 146ms/step - loss: 0.3194 - accuracy: 0.8649 - val_loss: 0.5161 - val_accuracy: 0.7765\n",
      "Epoch 18/25\n",
      "250/250 [==============================] - 36s 143ms/step - loss: 0.2974 - accuracy: 0.8716 - val_loss: 0.4827 - val_accuracy: 0.8040\n",
      "Epoch 19/25\n",
      "250/250 [==============================] - 36s 142ms/step - loss: 0.2979 - accuracy: 0.8712 - val_loss: 0.5224 - val_accuracy: 0.7945\n",
      "Epoch 20/25\n",
      "250/250 [==============================] - 36s 142ms/step - loss: 0.2819 - accuracy: 0.8801 - val_loss: 0.5497 - val_accuracy: 0.7820\n",
      "Epoch 21/25\n",
      "250/250 [==============================] - 35s 142ms/step - loss: 0.2565 - accuracy: 0.8924 - val_loss: 0.5269 - val_accuracy: 0.7965\n",
      "Epoch 22/25\n",
      "250/250 [==============================] - 36s 142ms/step - loss: 0.2530 - accuracy: 0.8949 - val_loss: 0.5085 - val_accuracy: 0.8030\n",
      "Epoch 23/25\n",
      "250/250 [==============================] - 35s 142ms/step - loss: 0.2342 - accuracy: 0.9028 - val_loss: 0.5614 - val_accuracy: 0.7935\n",
      "Epoch 24/25\n",
      "250/250 [==============================] - 35s 142ms/step - loss: 0.2246 - accuracy: 0.9066 - val_loss: 0.5247 - val_accuracy: 0.8135\n",
      "Epoch 25/25\n",
      "250/250 [==============================] - 36s 142ms/step - loss: 0.2106 - accuracy: 0.9147 - val_loss: 0.5569 - val_accuracy: 0.8005\n"
     ]
    },
    {
     "data": {
      "text/plain": [
       "<keras.src.callbacks.History at 0x1f401835fd0>"
      ]
     },
     "execution_count": 8,
     "metadata": {},
     "output_type": "execute_result"
    }
   ],
   "source": [
    "#Training the CNN\n",
    "cnn.fit(x=train_set, validation_data=test_set, epochs=25)"
   ]
  },
  {
   "cell_type": "code",
   "execution_count": 13,
   "id": "e62ea1cb",
   "metadata": {},
   "outputs": [
    {
     "name": "stdout",
     "output_type": "stream",
     "text": [
      "1/1 [==============================] - 0s 21ms/step\n"
     ]
    }
   ],
   "source": [
    "#Predicting the results\n",
    "import numpy as np\n",
    "from keras.preprocessing import image\n",
    "test_image = image.load_img('dataset/single_prediction/cat_or_dog_1.jpg', target_size = (64, 64))\n",
    "test_image = image.img_to_array(test_image)\n",
    "test_image = np.expand_dims(test_image, axis=0)\n",
    "result = cnn.predict(test_image/255.0)\n",
    "if result[0][0] == 1:\n",
    "    prediction = 'dog'\n",
    "else:\n",
    "    prediction = 'cat'"
   ]
  },
  {
   "cell_type": "code",
   "execution_count": 14,
   "id": "65d4d552",
   "metadata": {},
   "outputs": [
    {
     "name": "stdout",
     "output_type": "stream",
     "text": [
      "dog\n"
     ]
    }
   ],
   "source": [
    "print(prediction)"
   ]
  },
  {
   "cell_type": "code",
   "execution_count": null,
   "id": "dd002d36",
   "metadata": {},
   "outputs": [],
   "source": []
  }
 ],
 "metadata": {
  "kernelspec": {
   "display_name": "Python 3 (ipykernel)",
   "language": "python",
   "name": "python3"
  },
  "language_info": {
   "codemirror_mode": {
    "name": "ipython",
    "version": 3
   },
   "file_extension": ".py",
   "mimetype": "text/x-python",
   "name": "python",
   "nbconvert_exporter": "python",
   "pygments_lexer": "ipython3",
   "version": "3.11.5"
  }
 },
 "nbformat": 4,
 "nbformat_minor": 5
}
